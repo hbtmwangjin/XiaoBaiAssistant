{
 "cells": [
  {
   "cell_type": "code",
   "execution_count": null,
   "metadata": {},
   "outputs": [],
   "source": [
    "#!coding:utf-8\n",
    "import sys\n",
    "import os\n",
    "from keras.models import load_model\n",
    "from data_utils import load_label_name,get_mfcc,get_pcm\n",
    "import numpy as np\n",
    "\n",
    "root_dir = \"/xiaobai/\"\n",
    "sys.path.append(root_dir)\n",
    "from xiaobai import XiaoBai,BaseSkill\n",
    "\n",
    "# model = load_model('asr_model.h5') # 加载训练模型\n",
    "# model = load_model('asr_mfcc_conv1d_model.h5') # 加载训练模型\n",
    "model = load_model('test_1dconv.h5') # 加载训练模型\n",
    "# model = load_model('asr_mfcc_dense_model.h5') # 加载训练模型\n",
    "label_names = load_label_name()\n",
    "def predict(model):\n",
    "    X=get_mfcc('record.wav',samples=16000)\n",
    "    # X=get_pcm('record.wav',samples=32000)\n",
    "    print(X.shape)\n",
    "    #test dense model\n",
    "    # X = np.reshape(np.array(X),(-1,32000))\n",
    "\n",
    "    # test conv1d model\n",
    "    X = np.reshape(np.array(X),(-1,32,20))\n",
    "    # test conv2d model\n",
    "    # X = np.reshape(np.array(X),(-1,64,40))    \n",
    "    pred_probab = model.predict(X)\n",
    "    pred_class = list(pred_probab[0]).index(max(pred_probab[0]))\n",
    "    print(\"may be \" , label_names[pred_class] , \" probab: \" ,  pred_probab[0][pred_class])\n",
    "    formated = list( map(lambda x,i : (x.item(),label_names[i]) , pred_probab[0],[i for i in range(len(label_names))]) )\n",
    "    lists = sorted(formated,reverse=True)\n",
    "    top5 = lists[:5]\n",
    "    print(\"top5 :\",top5)\n",
    "    return lists\n",
    "def callback():\n",
    "  os.system(\"arecord -d %d -r 16000 -c 1 -t wav -f S16_LE record.wav\" % (1,) )   \n",
    "  predict(model)\n",
    "def main():\n",
    "  keyword_model = root_dir+'resources/小白.pmdl'\n",
    "  xiaobai = XiaoBai(keyword_model=keyword_model,callback=callback)\n",
    "  xiaobai.listen_for_keyword()\n",
    "\n",
    "if __name__ == '__main__':\n",
    "    main()\n"
   ]
  }
 ],
 "metadata": {
  "kernelspec": {
   "display_name": "Python 3",
   "language": "python",
   "name": "python3"
  },
  "language_info": {
   "codemirror_mode": {
    "name": "ipython",
    "version": 3
   },
   "file_extension": ".py",
   "mimetype": "text/x-python",
   "name": "python",
   "nbconvert_exporter": "python",
   "pygments_lexer": "ipython3",
   "version": "3.5.3"
  }
 },
 "nbformat": 4,
 "nbformat_minor": 2
}
