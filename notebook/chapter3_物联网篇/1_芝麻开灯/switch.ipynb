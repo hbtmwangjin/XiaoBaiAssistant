{
 "cells": [
  {
   "cell_type": "code",
   "execution_count": 2,
   "metadata": {},
   "outputs": [],
   "source": [
    "import sys\n",
    "import os\n",
    "import yaml\n",
    "import random\n",
    "from aip import AipSpeech\n",
    "root_dir = \"/xiaobai/\"\n",
    "sys.path.append(root_dir)\n",
    "from xiaobai import XiaoBai,BaseSkill"
   ]
  },
  {
   "cell_type": "code",
   "execution_count": 76,
   "metadata": {},
   "outputs": [
    {
     "name": "stdout",
     "output_type": "stream",
     "text": [
      "已执行，开灯\n",
      "已执行，关灯\n"
     ]
    }
   ],
   "source": [
    "import broadlink,binascii\n",
    "class SwitchSkill(BaseSkill):\n",
    "    def __init__(self):\n",
    "        #mac_addr = binascii.unhexlify(\"78:0f:77:c8:b4:c0\".encode().replace(b':', b''))\n",
    "        #print(mac_addr)\n",
    "        #self.sw = broadlink.sp2(('192.168.50.213',80),mac_addr,None)\n",
    "        devices = broadlink.discover(timeout=5)\n",
    "        self.sw = broadlink.sp2(devices[0].host,devices[0].mac,None)\n",
    "        if self.sw.auth()!=True:\n",
    "            print('认证失败，请重试')\n",
    "    #继承BaseSkill类，必须定义has_intent和action方法\n",
    "    def has_intent(self,text=\"\"):\n",
    "        for keyword in [\"打开\",\"关闭\",\"开灯\",\"关灯\"]:\n",
    "            if text.find(keyword)>= 0:\n",
    "                return True\n",
    "        return False\n",
    "    def action(self,text=\"\",callback=print):\n",
    "        try:\n",
    "            for keyword in [\"打开\",\"开灯\"]:\n",
    "                if text.find(keyword)>= 0:\n",
    "                    self.sw.set_power(1)\n",
    "                    callback(\"已执行，\"+text)\n",
    "                    return\n",
    "            for keyword in [\"关闭\",\"关灯\"]:\n",
    "                if text.find(keyword)>= 0:\n",
    "                    self.sw.set_power(0)      \n",
    "                    callback(\"已执行，\"+text)\n",
    "                    return\n",
    "        except:\n",
    "            callback(\"出错了呢，可能网络不太好\")\n",
    "if __name__ == '__main__':\n",
    "    import time\n",
    "    s = SwitchSkill()\n",
    "    s.handle(\"开灯\")\n",
    "    time.sleep(1)\n",
    "    s.handle(\"关灯\")"
   ]
  },
  {
   "cell_type": "code",
   "execution_count": null,
   "metadata": {},
   "outputs": [],
   "source": [
    "keyword_model = root_dir+'resources/小白.pmdl'\n",
    "xiaobai = XiaoBai(keyword_model=keyword_model)\n",
    "xiaobai.add_skill(SwitchSkill())\n",
    "xiaobai.listen_for_keyword()"
   ]
  },
  {
   "cell_type": "code",
   "execution_count": 45,
   "metadata": {},
   "outputs": [],
   "source": [
    "devices = broadlink.discover(timeout=5)"
   ]
  },
  {
   "cell_type": "code",
   "execution_count": 22,
   "metadata": {},
   "outputs": [
    {
     "data": {
      "text/plain": [
       "['__class__',\n",
       " '__delattr__',\n",
       " '__dict__',\n",
       " '__dir__',\n",
       " '__doc__',\n",
       " '__eq__',\n",
       " '__format__',\n",
       " '__ge__',\n",
       " '__getattribute__',\n",
       " '__gt__',\n",
       " '__hash__',\n",
       " '__init__',\n",
       " '__le__',\n",
       " '__lt__',\n",
       " '__module__',\n",
       " '__ne__',\n",
       " '__new__',\n",
       " '__reduce__',\n",
       " '__reduce_ex__',\n",
       " '__repr__',\n",
       " '__setattr__',\n",
       " '__sizeof__',\n",
       " '__str__',\n",
       " '__subclasshook__',\n",
       " '__weakref__',\n",
       " 'auth',\n",
       " 'count',\n",
       " 'cs',\n",
       " 'decrypt',\n",
       " 'decrypt_pyaes',\n",
       " 'decrypt_pycrypto',\n",
       " 'devtype',\n",
       " 'encrypt',\n",
       " 'encrypt_pyaes',\n",
       " 'encrypt_pycrypto',\n",
       " 'get_type',\n",
       " 'host',\n",
       " 'id',\n",
       " 'iv',\n",
       " 'key',\n",
       " 'lock',\n",
       " 'mac',\n",
       " 'send_packet',\n",
       " 'timeout',\n",
       " 'type']"
      ]
     },
     "execution_count": 22,
     "metadata": {},
     "output_type": "execute_result"
    }
   ],
   "source": [
    "dir(devices[0])"
   ]
  },
  {
   "cell_type": "code",
   "execution_count": 52,
   "metadata": {},
   "outputs": [
    {
     "data": {
      "text/plain": [
       "('192.168.50.213', 80)"
      ]
     },
     "execution_count": 52,
     "metadata": {},
     "output_type": "execute_result"
    }
   ],
   "source": [
    "devices[0].host"
   ]
  },
  {
   "cell_type": "code",
   "execution_count": 71,
   "metadata": {},
   "outputs": [
    {
     "data": {
      "text/plain": [
       "True"
      ]
     },
     "execution_count": 71,
     "metadata": {},
     "output_type": "execute_result"
    }
   ],
   "source": [
    "sw = broadlink.sp2(devices[0].host,devices[0].mac,None)\n",
    "sw.auth()"
   ]
  },
  {
   "cell_type": "code",
   "execution_count": 67,
   "metadata": {},
   "outputs": [],
   "source": [
    "sw.set_power(1)"
   ]
  },
  {
   "cell_type": "code",
   "execution_count": 64,
   "metadata": {},
   "outputs": [
    {
     "data": {
      "text/plain": [
       "False"
      ]
     },
     "execution_count": 64,
     "metadata": {},
     "output_type": "execute_result"
    }
   ],
   "source": [
    "sw.auth()"
   ]
  },
  {
   "cell_type": "code",
   "execution_count": 70,
   "metadata": {},
   "outputs": [
    {
     "data": {
      "text/plain": [
       "True"
      ]
     },
     "execution_count": 70,
     "metadata": {},
     "output_type": "execute_result"
    }
   ],
   "source": [
    "mac_addr = binascii.unhexlify(\"78:0f:77:c8:b4:c0\".encode().replace(b':', b''))\n",
    "sw2 = broadlink.sp2(devices[0].host,mac_addr,None)\n",
    "sw2.auth()"
   ]
  },
  {
   "cell_type": "code",
   "execution_count": 74,
   "metadata": {},
   "outputs": [
    {
     "data": {
      "text/plain": [
       "bytearray(b'\\xc0\\xb4\\xc8w\\x0fx')"
      ]
     },
     "execution_count": 74,
     "metadata": {},
     "output_type": "execute_result"
    }
   ],
   "source": [
    "devices[0].mac"
   ]
  },
  {
   "cell_type": "code",
   "execution_count": 73,
   "metadata": {},
   "outputs": [
    {
     "data": {
      "text/plain": [
       "b'x\\x0fw\\xc8\\xb4\\xc0'"
      ]
     },
     "execution_count": 73,
     "metadata": {},
     "output_type": "execute_result"
    }
   ],
   "source": [
    "mac_addr"
   ]
  },
  {
   "cell_type": "code",
   "execution_count": null,
   "metadata": {},
   "outputs": [],
   "source": []
  }
 ],
 "metadata": {
  "kernelspec": {
   "display_name": "Python 3",
   "language": "python",
   "name": "python3"
  }
 },
 "nbformat": 4,
 "nbformat_minor": 2
}
